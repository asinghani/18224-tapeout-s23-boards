{
 "cells": [
  {
   "cell_type": "code",
   "execution_count": 28,
   "id": "0f58e661-325d-49ab-a8cd-f442f188ea09",
   "metadata": {},
   "outputs": [],
   "source": [
    "from interface import *"
   ]
  },
  {
   "cell_type": "code",
   "execution_count": 29,
   "id": "6c91b6f5-b5f8-4417-bbaa-fb2a7d3c82fc",
   "metadata": {},
   "outputs": [],
   "source": [
    "## Test code for design 2 (counter)\n",
    "c = Chip(\"/dev/tty.usbmodem2101\", 115200)"
   ]
  },
  {
   "cell_type": "code",
   "execution_count": 30,
   "id": "9386316c-3b9b-4754-b2d2-677857e89aec",
   "metadata": {},
   "outputs": [],
   "source": [
    "c.step_clock(10)"
   ]
  },
  {
   "cell_type": "code",
   "execution_count": 31,
   "id": "3242b3fc-a302-400a-a162-dc7c29729709",
   "metadata": {},
   "outputs": [],
   "source": [
    "c.set_all_inputs(0b01)"
   ]
  },
  {
   "cell_type": "code",
   "execution_count": 32,
   "id": "1232d755-82f6-4e17-8a35-f69e21d2bcb1",
   "metadata": {},
   "outputs": [],
   "source": [
    "c.reset_sequence()"
   ]
  },
  {
   "cell_type": "code",
   "execution_count": 33,
   "id": "483d488d-2adc-4347-809d-7d2090fe7c79",
   "metadata": {},
   "outputs": [
    {
     "name": "stdout",
     "output_type": "stream",
     "text": [
      "0\n",
      "1\n"
     ]
    }
   ],
   "source": [
    "print(c.get_all_outputs())\n",
    "c.step_clock()\n",
    "print(c.get_all_outputs())"
   ]
  },
  {
   "cell_type": "code",
   "execution_count": 34,
   "id": "e7851484-d09b-4c64-a3ac-28413459aa85",
   "metadata": {},
   "outputs": [],
   "source": [
    "def test_ctr():\n",
    "    x = c.get_all_outputs()\n",
    "    c.step_clock()\n",
    "    assert c.get_all_outputs() == (x+1) & 0xFFF"
   ]
  },
  {
   "cell_type": "code",
   "execution_count": 35,
   "id": "102c923f-c964-4048-af3f-4742fbce88cd",
   "metadata": {},
   "outputs": [
    {
     "name": "stdout",
     "output_type": "stream",
     "text": [
      "SUCCESS\n"
     ]
    }
   ],
   "source": [
    "# Verify that nothing breaks over many iterations\n",
    "for _ in range(2000):\n",
    "    test_ctr()\n",
    "\n",
    "print(\"SUCCESS\")"
   ]
  },
  {
   "cell_type": "code",
   "execution_count": 36,
   "id": "b5d16668-b481-4ff2-b648-5670d2496360",
   "metadata": {},
   "outputs": [
    {
     "name": "stdout",
     "output_type": "stream",
     "text": [
      "1.4 ms ± 23.6 µs per loop (mean ± std. dev. of 7 runs, 1,000 loops each)\n"
     ]
    }
   ],
   "source": [
    "%timeit test_ctr()"
   ]
  },
  {
   "cell_type": "code",
   "execution_count": null,
   "id": "7c0d39c1-81b1-4aef-b1f7-9d4b2dcda12d",
   "metadata": {},
   "outputs": [],
   "source": []
  },
  {
   "cell_type": "code",
   "execution_count": null,
   "id": "1bac2193-9a64-484a-968e-17854142967b",
   "metadata": {},
   "outputs": [],
   "source": []
  }
 ],
 "metadata": {
  "kernelspec": {
   "display_name": "Python 3 (ipykernel)",
   "language": "python",
   "name": "python3"
  },
  "language_info": {
   "codemirror_mode": {
    "name": "ipython",
    "version": 3
   },
   "file_extension": ".py",
   "mimetype": "text/x-python",
   "name": "python",
   "nbconvert_exporter": "python",
   "pygments_lexer": "ipython3",
   "version": "3.10.4"
  }
 },
 "nbformat": 4,
 "nbformat_minor": 5
}
