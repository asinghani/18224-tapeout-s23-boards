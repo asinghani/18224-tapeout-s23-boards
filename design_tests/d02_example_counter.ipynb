{
 "cells": [
  {
   "cell_type": "code",
   "execution_count": 1,
   "id": "0f58e661-325d-49ab-a8cd-f442f188ea09",
   "metadata": {},
   "outputs": [],
   "source": [
    "from interface import *"
   ]
  },
  {
   "cell_type": "code",
   "execution_count": 17,
   "id": "6c91b6f5-b5f8-4417-bbaa-fb2a7d3c82fc",
   "metadata": {},
   "outputs": [],
   "source": [
    "## Test code for design 2 (counter)\n",
    "c = Chip(\"/dev/tty.usbmodem21201\", 115200)"
   ]
  },
  {
   "cell_type": "code",
   "execution_count": 18,
   "id": "9386316c-3b9b-4754-b2d2-677857e89aec",
   "metadata": {},
   "outputs": [
    {
     "ename": "SerialException",
     "evalue": "read failed: [Errno 6] Device not configured",
     "output_type": "error",
     "traceback": [
      "\u001b[0;31m---------------------------------------------------------------------------\u001b[0m",
      "\u001b[0;31mOSError\u001b[0m                                   Traceback (most recent call last)",
      "File \u001b[0;32m~/workspace/miniconda3/envs/ctf/lib/python3.10/site-packages/serial/serialposix.py:575\u001b[0m, in \u001b[0;36mSerial.read\u001b[0;34m(self, size)\u001b[0m\n\u001b[1;32m    574\u001b[0m         \u001b[38;5;28;01mbreak\u001b[39;00m   \u001b[38;5;66;03m# timeout\u001b[39;00m\n\u001b[0;32m--> 575\u001b[0m     buf \u001b[38;5;241m=\u001b[39m \u001b[43mos\u001b[49m\u001b[38;5;241;43m.\u001b[39;49m\u001b[43mread\u001b[49m\u001b[43m(\u001b[49m\u001b[38;5;28;43mself\u001b[39;49m\u001b[38;5;241;43m.\u001b[39;49m\u001b[43mfd\u001b[49m\u001b[43m,\u001b[49m\u001b[43m \u001b[49m\u001b[43msize\u001b[49m\u001b[43m \u001b[49m\u001b[38;5;241;43m-\u001b[39;49m\u001b[43m \u001b[49m\u001b[38;5;28;43mlen\u001b[39;49m\u001b[43m(\u001b[49m\u001b[43mread\u001b[49m\u001b[43m)\u001b[49m\u001b[43m)\u001b[49m\n\u001b[1;32m    576\u001b[0m \u001b[38;5;28;01mexcept\u001b[39;00m \u001b[38;5;167;01mOSError\u001b[39;00m \u001b[38;5;28;01mas\u001b[39;00m e:\n\u001b[1;32m    577\u001b[0m     \u001b[38;5;66;03m# this is for Python 3.x where select.error is a subclass of\u001b[39;00m\n\u001b[1;32m    578\u001b[0m     \u001b[38;5;66;03m# OSError ignore BlockingIOErrors and EINTR. other errors are shown\u001b[39;00m\n\u001b[1;32m    579\u001b[0m     \u001b[38;5;66;03m# https://www.python.org/dev/peps/pep-0475.\u001b[39;00m\n",
      "\u001b[0;31mOSError\u001b[0m: [Errno 6] Device not configured",
      "\nDuring handling of the above exception, another exception occurred:\n",
      "\u001b[0;31mSerialException\u001b[0m                           Traceback (most recent call last)",
      "Input \u001b[0;32mIn [18]\u001b[0m, in \u001b[0;36m<cell line: 1>\u001b[0;34m()\u001b[0m\n\u001b[0;32m----> 1\u001b[0m \u001b[43mc\u001b[49m\u001b[38;5;241;43m.\u001b[39;49m\u001b[43mstep_clock\u001b[49m\u001b[43m(\u001b[49m\u001b[38;5;241;43m10\u001b[39;49m\u001b[43m)\u001b[49m\n",
      "File \u001b[0;32m~/projects/hardware/18224-tapeout-s23-boards/design_tests/interface.py:65\u001b[0m, in \u001b[0;36mChip.step_clock\u001b[0;34m(self, n)\u001b[0m\n\u001b[1;32m     63\u001b[0m \u001b[38;5;28;01mdef\u001b[39;00m \u001b[38;5;21mstep_clock\u001b[39m(\u001b[38;5;28mself\u001b[39m, n\u001b[38;5;241m=\u001b[39m\u001b[38;5;241m1\u001b[39m):\n\u001b[1;32m     64\u001b[0m     \u001b[38;5;28;01mfor\u001b[39;00m _ \u001b[38;5;129;01min\u001b[39;00m \u001b[38;5;28mrange\u001b[39m(n):\n\u001b[0;32m---> 65\u001b[0m         \u001b[38;5;28;43mself\u001b[39;49m\u001b[38;5;241;43m.\u001b[39;49m\u001b[43m_push_outputs\u001b[49m\u001b[43m(\u001b[49m\u001b[43mstep\u001b[49m\u001b[38;5;241;43m=\u001b[39;49m\u001b[38;5;28;43;01mTrue\u001b[39;49;00m\u001b[43m)\u001b[49m\n",
      "File \u001b[0;32m~/projects/hardware/18224-tapeout-s23-boards/design_tests/interface.py:38\u001b[0m, in \u001b[0;36mChip._push_outputs\u001b[0;34m(self, step)\u001b[0m\n\u001b[1;32m     36\u001b[0m dat \u001b[38;5;241m=\u001b[39m \u001b[38;5;28mbytearray\u001b[39m()\n\u001b[1;32m     37\u001b[0m \u001b[38;5;28;01mwhile\u001b[39;00m \u001b[38;5;28mlen\u001b[39m(dat) \u001b[38;5;241m<\u001b[39m \u001b[38;5;241m3\u001b[39m:\n\u001b[0;32m---> 38\u001b[0m     dat \u001b[38;5;241m+\u001b[39m\u001b[38;5;241m=\u001b[39m \u001b[38;5;28;43mself\u001b[39;49m\u001b[38;5;241;43m.\u001b[39;49m\u001b[43mport\u001b[49m\u001b[38;5;241;43m.\u001b[39;49m\u001b[43mread\u001b[49m\u001b[43m(\u001b[49m\u001b[38;5;241;43m9999\u001b[39;49m\u001b[43m)\u001b[49m\n\u001b[1;32m     40\u001b[0m hi, lo, chk \u001b[38;5;241m=\u001b[39m dat[\u001b[38;5;241m-\u001b[39m\u001b[38;5;241m3\u001b[39m:]\n\u001b[1;32m     42\u001b[0m \u001b[38;5;28;01mif\u001b[39;00m (chk \u001b[38;5;241m!=\u001b[39m (((hi\u001b[38;5;241m+\u001b[39mlo) \u001b[38;5;241m^\u001b[39m \u001b[38;5;241m0xAB\u001b[39m) \u001b[38;5;241m&\u001b[39m \u001b[38;5;241m0xFF\u001b[39m)) \u001b[38;5;129;01mor\u001b[39;00m ((hi \u001b[38;5;241m&\u001b[39m \u001b[38;5;241m0x40\u001b[39m) \u001b[38;5;241m==\u001b[39m \u001b[38;5;241m0\u001b[39m):\n",
      "File \u001b[0;32m~/workspace/miniconda3/envs/ctf/lib/python3.10/site-packages/serial/serialposix.py:581\u001b[0m, in \u001b[0;36mSerial.read\u001b[0;34m(self, size)\u001b[0m\n\u001b[1;32m    576\u001b[0m \u001b[38;5;28;01mexcept\u001b[39;00m \u001b[38;5;167;01mOSError\u001b[39;00m \u001b[38;5;28;01mas\u001b[39;00m e:\n\u001b[1;32m    577\u001b[0m     \u001b[38;5;66;03m# this is for Python 3.x where select.error is a subclass of\u001b[39;00m\n\u001b[1;32m    578\u001b[0m     \u001b[38;5;66;03m# OSError ignore BlockingIOErrors and EINTR. other errors are shown\u001b[39;00m\n\u001b[1;32m    579\u001b[0m     \u001b[38;5;66;03m# https://www.python.org/dev/peps/pep-0475.\u001b[39;00m\n\u001b[1;32m    580\u001b[0m     \u001b[38;5;28;01mif\u001b[39;00m e\u001b[38;5;241m.\u001b[39merrno \u001b[38;5;129;01mnot\u001b[39;00m \u001b[38;5;129;01min\u001b[39;00m (errno\u001b[38;5;241m.\u001b[39mEAGAIN, errno\u001b[38;5;241m.\u001b[39mEALREADY, errno\u001b[38;5;241m.\u001b[39mEWOULDBLOCK, errno\u001b[38;5;241m.\u001b[39mEINPROGRESS, errno\u001b[38;5;241m.\u001b[39mEINTR):\n\u001b[0;32m--> 581\u001b[0m         \u001b[38;5;28;01mraise\u001b[39;00m SerialException(\u001b[38;5;124m'\u001b[39m\u001b[38;5;124mread failed: \u001b[39m\u001b[38;5;132;01m{}\u001b[39;00m\u001b[38;5;124m'\u001b[39m\u001b[38;5;241m.\u001b[39mformat(e))\n\u001b[1;32m    582\u001b[0m \u001b[38;5;28;01mexcept\u001b[39;00m select\u001b[38;5;241m.\u001b[39merror \u001b[38;5;28;01mas\u001b[39;00m e:\n\u001b[1;32m    583\u001b[0m     \u001b[38;5;66;03m# this is for Python 2.x\u001b[39;00m\n\u001b[1;32m    584\u001b[0m     \u001b[38;5;66;03m# ignore BlockingIOErrors and EINTR. all errors are shown\u001b[39;00m\n\u001b[1;32m    585\u001b[0m     \u001b[38;5;66;03m# see also http://www.python.org/dev/peps/pep-3151/#select\u001b[39;00m\n\u001b[1;32m    586\u001b[0m     \u001b[38;5;28;01mif\u001b[39;00m e[\u001b[38;5;241m0\u001b[39m] \u001b[38;5;129;01mnot\u001b[39;00m \u001b[38;5;129;01min\u001b[39;00m (errno\u001b[38;5;241m.\u001b[39mEAGAIN, errno\u001b[38;5;241m.\u001b[39mEALREADY, errno\u001b[38;5;241m.\u001b[39mEWOULDBLOCK, errno\u001b[38;5;241m.\u001b[39mEINPROGRESS, errno\u001b[38;5;241m.\u001b[39mEINTR):\n",
      "\u001b[0;31mSerialException\u001b[0m: read failed: [Errno 6] Device not configured"
     ]
    }
   ],
   "source": [
    "c.step_clock(10)"
   ]
  },
  {
   "cell_type": "code",
   "execution_count": null,
   "id": "3242b3fc-a302-400a-a162-dc7c29729709",
   "metadata": {},
   "outputs": [],
   "source": [
    "c.set_all_inputs(0b01)"
   ]
  },
  {
   "cell_type": "code",
   "execution_count": null,
   "id": "1232d755-82f6-4e17-8a35-f69e21d2bcb1",
   "metadata": {},
   "outputs": [],
   "source": [
    "c.reset_sequence()"
   ]
  },
  {
   "cell_type": "code",
   "execution_count": 6,
   "id": "483d488d-2adc-4347-809d-7d2090fe7c79",
   "metadata": {},
   "outputs": [
    {
     "name": "stdout",
     "output_type": "stream",
     "text": [
      "41\n",
      "41\n"
     ]
    }
   ],
   "source": [
    "print(c.get_all_outputs())\n",
    "c.step_clock()\n",
    "print(c.get_all_outputs())"
   ]
  },
  {
   "cell_type": "code",
   "execution_count": 12,
   "id": "e7851484-d09b-4c64-a3ac-28413459aa85",
   "metadata": {},
   "outputs": [],
   "source": [
    "def test_ctr():\n",
    "    x = c.get_all_outputs()\n",
    "    c.step_clock()\n",
    "    assert c.get_all_outputs() == (x+1) & 0xFFF"
   ]
  },
  {
   "cell_type": "code",
   "execution_count": 14,
   "id": "102c923f-c964-4048-af3f-4742fbce88cd",
   "metadata": {},
   "outputs": [
    {
     "name": "stdout",
     "output_type": "stream",
     "text": [
      "SUCCESS\n"
     ]
    }
   ],
   "source": [
    "# Verify that nothing breaks over many iterations\n",
    "for _ in range(2000):\n",
    "    test_ctr()\n",
    "\n",
    "print(\"SUCCESS\")"
   ]
  },
  {
   "cell_type": "code",
   "execution_count": 15,
   "id": "b5d16668-b481-4ff2-b648-5670d2496360",
   "metadata": {},
   "outputs": [
    {
     "name": "stdout",
     "output_type": "stream",
     "text": [
      "1.63 ms ± 62.3 µs per loop (mean ± std. dev. of 7 runs, 1,000 loops each)\n"
     ]
    }
   ],
   "source": [
    "%timeit test_ctr()"
   ]
  },
  {
   "cell_type": "code",
   "execution_count": null,
   "id": "7c0d39c1-81b1-4aef-b1f7-9d4b2dcda12d",
   "metadata": {},
   "outputs": [],
   "source": []
  },
  {
   "cell_type": "code",
   "execution_count": null,
   "id": "1bac2193-9a64-484a-968e-17854142967b",
   "metadata": {},
   "outputs": [],
   "source": []
  }
 ],
 "metadata": {
  "kernelspec": {
   "display_name": "Python 3 (ipykernel)",
   "language": "python",
   "name": "python3"
  },
  "language_info": {
   "codemirror_mode": {
    "name": "ipython",
    "version": 3
   },
   "file_extension": ".py",
   "mimetype": "text/x-python",
   "name": "python",
   "nbconvert_exporter": "python",
   "pygments_lexer": "ipython3",
   "version": "3.10.4"
  }
 },
 "nbformat": 4,
 "nbformat_minor": 5
}
