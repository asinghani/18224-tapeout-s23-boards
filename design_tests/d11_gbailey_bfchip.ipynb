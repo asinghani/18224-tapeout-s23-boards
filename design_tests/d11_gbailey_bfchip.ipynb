{
 "cells": [
  {
   "cell_type": "code",
   "execution_count": 5,
   "id": "0f58e661-325d-49ab-a8cd-f442f188ea09",
   "metadata": {},
   "outputs": [],
   "source": [
    "from interface import *"
   ]
  },
  {
   "cell_type": "code",
   "execution_count": 6,
   "id": "6c91b6f5-b5f8-4417-bbaa-fb2a7d3c82fc",
   "metadata": {},
   "outputs": [
    {
     "name": "stdout",
     "output_type": "stream",
     "text": [
      "001011\n"
     ]
    }
   ],
   "source": [
    "## Test code for design 11 (brainfuck chip)\n",
    "print(\"{:06b}\".format(11))\n",
    "\n",
    "# instantiate and enable\n",
    "chip = Chip(\"/dev/tty.usbmodem21201\", 115200)\n",
    "chip.step_clock(10)"
   ]
  },
  {
   "cell_type": "code",
   "execution_count": 12,
   "id": "9386316c-3b9b-4754-b2d2-677857e89aec",
   "metadata": {
    "tags": []
   },
   "outputs": [
    {
     "name": "stdout",
     "output_type": "stream",
     "text": [
      "resetting\n"
     ]
    },
    {
     "ename": "SerialException",
     "evalue": "read failed: [Errno 6] Device not configured",
     "output_type": "error",
     "traceback": [
      "\u001b[0;31m---------------------------------------------------------------------------\u001b[0m",
      "\u001b[0;31mOSError\u001b[0m                                   Traceback (most recent call last)",
      "File \u001b[0;32m~/workspace/miniconda3/envs/ctf/lib/python3.10/site-packages/serial/serialposix.py:575\u001b[0m, in \u001b[0;36mSerial.read\u001b[0;34m(self, size)\u001b[0m\n\u001b[1;32m    574\u001b[0m         \u001b[38;5;28;01mbreak\u001b[39;00m   \u001b[38;5;66;03m# timeout\u001b[39;00m\n\u001b[0;32m--> 575\u001b[0m     buf \u001b[38;5;241m=\u001b[39m \u001b[43mos\u001b[49m\u001b[38;5;241;43m.\u001b[39;49m\u001b[43mread\u001b[49m\u001b[43m(\u001b[49m\u001b[38;5;28;43mself\u001b[39;49m\u001b[38;5;241;43m.\u001b[39;49m\u001b[43mfd\u001b[49m\u001b[43m,\u001b[49m\u001b[43m \u001b[49m\u001b[43msize\u001b[49m\u001b[43m \u001b[49m\u001b[38;5;241;43m-\u001b[39;49m\u001b[43m \u001b[49m\u001b[38;5;28;43mlen\u001b[39;49m\u001b[43m(\u001b[49m\u001b[43mread\u001b[49m\u001b[43m)\u001b[49m\u001b[43m)\u001b[49m\n\u001b[1;32m    576\u001b[0m \u001b[38;5;28;01mexcept\u001b[39;00m \u001b[38;5;167;01mOSError\u001b[39;00m \u001b[38;5;28;01mas\u001b[39;00m e:\n\u001b[1;32m    577\u001b[0m     \u001b[38;5;66;03m# this is for Python 3.x where select.error is a subclass of\u001b[39;00m\n\u001b[1;32m    578\u001b[0m     \u001b[38;5;66;03m# OSError ignore BlockingIOErrors and EINTR. other errors are shown\u001b[39;00m\n\u001b[1;32m    579\u001b[0m     \u001b[38;5;66;03m# https://www.python.org/dev/peps/pep-0475.\u001b[39;00m\n",
      "\u001b[0;31mOSError\u001b[0m: [Errno 6] Device not configured",
      "\nDuring handling of the above exception, another exception occurred:\n",
      "\u001b[0;31mSerialException\u001b[0m                           Traceback (most recent call last)",
      "Input \u001b[0;32mIn [12]\u001b[0m, in \u001b[0;36m<cell line: 60>\u001b[0;34m()\u001b[0m\n\u001b[1;32m     57\u001b[0m outputs \u001b[38;5;241m=\u001b[39m Outputs(chip)\n\u001b[1;32m     59\u001b[0m \u001b[38;5;28mprint\u001b[39m(\u001b[38;5;124m\"\u001b[39m\u001b[38;5;124mresetting\u001b[39m\u001b[38;5;124m\"\u001b[39m)\n\u001b[0;32m---> 60\u001b[0m \u001b[43mchip\u001b[49m\u001b[38;5;241;43m.\u001b[39;49m\u001b[43mreset_sequence\u001b[49m\u001b[43m(\u001b[49m\u001b[43m)\u001b[49m\n\u001b[1;32m     62\u001b[0m inputs\u001b[38;5;241m.\u001b[39menable \u001b[38;5;241m=\u001b[39m \u001b[38;5;241m1\u001b[39m\n\u001b[1;32m     63\u001b[0m inputs\u001b[38;5;241m.\u001b[39mset()\n",
      "File \u001b[0;32m~/projects/hardware/18224-tapeout-s23-boards/design_tests/interface.py:69\u001b[0m, in \u001b[0;36mChip.reset_sequence\u001b[0;34m(self)\u001b[0m\n\u001b[1;32m     67\u001b[0m \u001b[38;5;28;01mdef\u001b[39;00m \u001b[38;5;21mreset_sequence\u001b[39m(\u001b[38;5;28mself\u001b[39m):\n\u001b[1;32m     68\u001b[0m     \u001b[38;5;66;03m# accounts for the sync delay in the reset line\u001b[39;00m\n\u001b[0;32m---> 69\u001b[0m     \u001b[38;5;28;43mself\u001b[39;49m\u001b[38;5;241;43m.\u001b[39;49m\u001b[43mset_reset\u001b[49m\u001b[43m(\u001b[49m\u001b[38;5;241;43m1\u001b[39;49m\u001b[43m)\u001b[49m\n\u001b[1;32m     70\u001b[0m     \u001b[38;5;28mself\u001b[39m\u001b[38;5;241m.\u001b[39mstep_clock(\u001b[38;5;241m10\u001b[39m)\n\u001b[1;32m     71\u001b[0m     \u001b[38;5;28mself\u001b[39m\u001b[38;5;241m.\u001b[39mset_reset(\u001b[38;5;241m0\u001b[39m)\n",
      "File \u001b[0;32m~/projects/hardware/18224-tapeout-s23-boards/design_tests/interface.py:61\u001b[0m, in \u001b[0;36mChip.set_reset\u001b[0;34m(self, value)\u001b[0m\n\u001b[1;32m     59\u001b[0m \u001b[38;5;28;01mdef\u001b[39;00m \u001b[38;5;21mset_reset\u001b[39m(\u001b[38;5;28mself\u001b[39m, value):\n\u001b[1;32m     60\u001b[0m     \u001b[38;5;28mself\u001b[39m\u001b[38;5;241m.\u001b[39mreset \u001b[38;5;241m=\u001b[39m value \u001b[38;5;241m&\u001b[39m \u001b[38;5;241m0x1\u001b[39m\n\u001b[0;32m---> 61\u001b[0m     \u001b[38;5;28;43mself\u001b[39;49m\u001b[38;5;241;43m.\u001b[39;49m\u001b[43m_push_outputs\u001b[49m\u001b[43m(\u001b[49m\u001b[43m)\u001b[49m\n",
      "File \u001b[0;32m~/projects/hardware/18224-tapeout-s23-boards/design_tests/interface.py:33\u001b[0m, in \u001b[0;36mChip._push_outputs\u001b[0;34m(self, step)\u001b[0m\n\u001b[1;32m     25\u001b[0m hi \u001b[38;5;241m=\u001b[39m (\n\u001b[1;32m     26\u001b[0m     ((\u001b[38;5;28mself\u001b[39m\u001b[38;5;241m.\u001b[39mout_state \u001b[38;5;241m>>\u001b[39m \u001b[38;5;241m8\u001b[39m) \u001b[38;5;241m&\u001b[39m \u001b[38;5;241m0xF\u001b[39m) \u001b[38;5;241m|\u001b[39m \n\u001b[1;32m     27\u001b[0m     ((\u001b[38;5;28mself\u001b[39m\u001b[38;5;241m.\u001b[39mreset \u001b[38;5;241m&\u001b[39m \u001b[38;5;241m0x1\u001b[39m) \u001b[38;5;241m<<\u001b[39m \u001b[38;5;241m4\u001b[39m) \u001b[38;5;241m|\u001b[39m\n\u001b[1;32m     28\u001b[0m     ((step \u001b[38;5;241m&\u001b[39m \u001b[38;5;241m0x1\u001b[39m) \u001b[38;5;241m<<\u001b[39m \u001b[38;5;241m5\u001b[39m) \u001b[38;5;241m|\u001b[39m\n\u001b[1;32m     29\u001b[0m     (\u001b[38;5;241m0x0\u001b[39m \u001b[38;5;241m<<\u001b[39m \u001b[38;5;241m6\u001b[39m)\n\u001b[1;32m     30\u001b[0m )\n\u001b[1;32m     31\u001b[0m chk \u001b[38;5;241m=\u001b[39m ((hi\u001b[38;5;241m+\u001b[39mlo \u001b[38;5;241m^\u001b[39m \u001b[38;5;241m0xAB\u001b[39m) \u001b[38;5;241m&\u001b[39m \u001b[38;5;241m0xFF\u001b[39m)\n\u001b[0;32m---> 33\u001b[0m \u001b[38;5;28;43mself\u001b[39;49m\u001b[38;5;241;43m.\u001b[39;49m\u001b[43mport\u001b[49m\u001b[38;5;241;43m.\u001b[39;49m\u001b[43mread\u001b[49m\u001b[43m(\u001b[49m\u001b[38;5;241;43m9999\u001b[39;49m\u001b[43m)\u001b[49m\n\u001b[1;32m     34\u001b[0m \u001b[38;5;28mself\u001b[39m\u001b[38;5;241m.\u001b[39mport\u001b[38;5;241m.\u001b[39mwrite([\u001b[38;5;241m0x5B\u001b[39m, hi, lo, chk])\n\u001b[1;32m     35\u001b[0m time\u001b[38;5;241m.\u001b[39msleep(\u001b[38;5;28mself\u001b[39m\u001b[38;5;241m.\u001b[39mdelay)\n",
      "File \u001b[0;32m~/workspace/miniconda3/envs/ctf/lib/python3.10/site-packages/serial/serialposix.py:581\u001b[0m, in \u001b[0;36mSerial.read\u001b[0;34m(self, size)\u001b[0m\n\u001b[1;32m    576\u001b[0m \u001b[38;5;28;01mexcept\u001b[39;00m \u001b[38;5;167;01mOSError\u001b[39;00m \u001b[38;5;28;01mas\u001b[39;00m e:\n\u001b[1;32m    577\u001b[0m     \u001b[38;5;66;03m# this is for Python 3.x where select.error is a subclass of\u001b[39;00m\n\u001b[1;32m    578\u001b[0m     \u001b[38;5;66;03m# OSError ignore BlockingIOErrors and EINTR. other errors are shown\u001b[39;00m\n\u001b[1;32m    579\u001b[0m     \u001b[38;5;66;03m# https://www.python.org/dev/peps/pep-0475.\u001b[39;00m\n\u001b[1;32m    580\u001b[0m     \u001b[38;5;28;01mif\u001b[39;00m e\u001b[38;5;241m.\u001b[39merrno \u001b[38;5;129;01mnot\u001b[39;00m \u001b[38;5;129;01min\u001b[39;00m (errno\u001b[38;5;241m.\u001b[39mEAGAIN, errno\u001b[38;5;241m.\u001b[39mEALREADY, errno\u001b[38;5;241m.\u001b[39mEWOULDBLOCK, errno\u001b[38;5;241m.\u001b[39mEINPROGRESS, errno\u001b[38;5;241m.\u001b[39mEINTR):\n\u001b[0;32m--> 581\u001b[0m         \u001b[38;5;28;01mraise\u001b[39;00m SerialException(\u001b[38;5;124m'\u001b[39m\u001b[38;5;124mread failed: \u001b[39m\u001b[38;5;132;01m{}\u001b[39;00m\u001b[38;5;124m'\u001b[39m\u001b[38;5;241m.\u001b[39mformat(e))\n\u001b[1;32m    582\u001b[0m \u001b[38;5;28;01mexcept\u001b[39;00m select\u001b[38;5;241m.\u001b[39merror \u001b[38;5;28;01mas\u001b[39;00m e:\n\u001b[1;32m    583\u001b[0m     \u001b[38;5;66;03m# this is for Python 2.x\u001b[39;00m\n\u001b[1;32m    584\u001b[0m     \u001b[38;5;66;03m# ignore BlockingIOErrors and EINTR. all errors are shown\u001b[39;00m\n\u001b[1;32m    585\u001b[0m     \u001b[38;5;66;03m# see also http://www.python.org/dev/peps/pep-3151/#select\u001b[39;00m\n\u001b[1;32m    586\u001b[0m     \u001b[38;5;28;01mif\u001b[39;00m e[\u001b[38;5;241m0\u001b[39m] \u001b[38;5;129;01mnot\u001b[39;00m \u001b[38;5;129;01min\u001b[39;00m (errno\u001b[38;5;241m.\u001b[39mEAGAIN, errno\u001b[38;5;241m.\u001b[39mEALREADY, errno\u001b[38;5;241m.\u001b[39mEWOULDBLOCK, errno\u001b[38;5;241m.\u001b[39mEINPROGRESS, errno\u001b[38;5;241m.\u001b[39mEINTR):\n",
      "\u001b[0;31mSerialException\u001b[0m: read failed: [Errno 6] Device not configured"
     ]
    }
   ],
   "source": [
    "## https://github.com/asinghani/18224-s23-tapeout/blob/main/designs/d11_gbailey_bfchip/dev/src/merged_test.py\n",
    "\n",
    "IoNone          = 0b000\n",
    "IoOpcode        = 0b001\n",
    "IoAddrHi        = 0b010\n",
    "IoAddrLo        = 0b011\n",
    "IoReadWrite     = 0b100\n",
    "BusNone         = 0b000\n",
    "BusReadProg     = 0b010\n",
    "BusReadData     = 0b100\n",
    "BusWriteData    = 0b101\n",
    "BusReadIo       = 0b110\n",
    "BusWriteIo      = 0b111\n",
    "\n",
    "class Inputs:\n",
    "  def __init__(self, chip):\n",
    "    self.bus_in = 0\n",
    "    self.op_done = 0\n",
    "    self.enable = 0\n",
    "    self.chip = chip\n",
    "\n",
    "  def set(self):\n",
    "    val = (self.enable << 9) | (self.op_done << 8) | self.bus_in\n",
    "    self.chip.set_all_inputs(val)\n",
    "\n",
    "  def __repr__(self):\n",
    "    return f\"bus_in={self.bus_in:08b}, \" \\\n",
    "           f\"op_done={self.op_done:b}, \" \\\n",
    "           f\"enable={self.enable:b}\"\n",
    "\n",
    "class Outputs:\n",
    "  def __init__(self, chip):\n",
    "    self.bus_out = 0\n",
    "    self.state = 0\n",
    "    self.halted = 0\n",
    "    self.chip = chip\n",
    "\n",
    "  def get(self):\n",
    "    out = self.chip.get_all_outputs()\n",
    "    self.bus_out = out & 0x0FF\n",
    "    self.state = (out & 0x700) >> 8\n",
    "    self.halted = (out & 0x800) >> 11\n",
    "\n",
    "  def __repr__(self):\n",
    "    return f\"bus_out={self.bus_out:08b}, \" \\\n",
    "           f\"state={self.state:03b}, \" \\\n",
    "           f\"halted={self.halted:b}\"\n",
    "\n",
    "# Modified version of Cristofani's IO test (CC-BY-SA). Includes a loop-forward\n",
    "# check to make sure we're checking all the states.\n",
    "prog = bytearray(b\"++--[++++++++.]>,>+++++++++,>+++++++++++[<++++++<++++++<+>>>-]<<.>.<<-.>.>.<<.\")\n",
    "stdin = bytearray(b\"\\n\")\n",
    "input_end = 0\n",
    "stdout = bytearray(b\"LB\\nLB\\n\")\n",
    "\n",
    "inputs = Inputs(chip)\n",
    "outputs = Outputs(chip)\n",
    "\n",
    "print(\"resetting\")\n",
    "chip.reset_sequence()\n",
    "\n",
    "inputs.enable = 1\n",
    "inputs.set()\n",
    "outputs.get()\n",
    "\n",
    "# pseudo-registers\n",
    "opcode = 0\n",
    "addr_hi = 0\n",
    "addr_lo = 0\n",
    "\n",
    "data = bytearray(65536)\n",
    "output = bytearray()\n",
    "\n",
    "cycles = 0\n",
    "\n",
    "while not outputs.halted:\n",
    "  outputs.get()\n",
    "  # print(outputs)\n",
    "  if outputs.state == IoOpcode:\n",
    "    opcode = outputs.bus_out\n",
    "  elif outputs.state == IoAddrHi:\n",
    "    addr_hi = outputs.bus_out\n",
    "  elif outputs.state == IoAddrLo:\n",
    "    addr_lo = outputs.bus_out\n",
    "  elif outputs.state == IoReadWrite:\n",
    "    addr = (addr_hi << 8) | addr_lo\n",
    "    if opcode == BusReadProg:\n",
    "      if addr >= len(prog):\n",
    "        inputs.bus_in = 0\n",
    "      else:\n",
    "        inputs.bus_in = prog[addr]\n",
    "      print(f\"reading program [{addr:04x}]: {chr(inputs.bus_in)}\")\n",
    "    elif opcode == BusReadData:\n",
    "      inputs.bus_in = data[addr]\n",
    "      print(f\"reading data    [{addr:04x}]: {inputs.bus_in}\")\n",
    "    elif opcode == BusWriteData:\n",
    "      data[addr] = outputs.bus_out\n",
    "      print(f\"writing data    [{addr:04x}]: {outputs.bus_out}\")\n",
    "    elif opcode == BusReadIo:\n",
    "      if len(stdin) > 0:\n",
    "        inputs.bus_in = stdin.pop(0)\n",
    "      else:\n",
    "        inputs.bus_in = input_end\n",
    "      print(f\"reading io            : {chr(inputs.bus_in)}\")\n",
    "    elif opcode == BusWriteIo:\n",
    "      print(f\"writing io            : {chr(outputs.bus_out)}\")\n",
    "      output.append(outputs.bus_out)\n",
    "    inputs.op_done = 1\n",
    "    inputs.set()\n",
    "  # print(inputs)\n",
    "  chip.step_clock()\n",
    "  cycles += 1\n",
    "\n",
    "print(f\"halted, ran {cycles} cycles\")\n",
    "if output == stdout:\n",
    "  print(f\"output: {bytes(output)}, success!\")\n",
    "else:\n",
    "  print(f\"output: {bytes(output)}, differs from expected: {bytes(stdout)}\")\n",
    "assert(output == stdout)"
   ]
  },
  {
   "cell_type": "code",
   "execution_count": null,
   "id": "7c0d39c1-81b1-4aef-b1f7-9d4b2dcda12d",
   "metadata": {},
   "outputs": [],
   "source": []
  },
  {
   "cell_type": "code",
   "execution_count": null,
   "id": "1bac2193-9a64-484a-968e-17854142967b",
   "metadata": {},
   "outputs": [],
   "source": []
  },
  {
   "cell_type": "code",
   "execution_count": null,
   "id": "c65d5d41-e46e-4260-85ef-b1dfc1c8cda2",
   "metadata": {},
   "outputs": [],
   "source": []
  },
  {
   "cell_type": "code",
   "execution_count": null,
   "id": "27651ef5-01bf-4837-8158-28e210ce9133",
   "metadata": {},
   "outputs": [],
   "source": []
  },
  {
   "cell_type": "code",
   "execution_count": null,
   "id": "6d933432-4fe2-42bb-810f-ac8bcc434967",
   "metadata": {},
   "outputs": [],
   "source": []
  },
  {
   "cell_type": "code",
   "execution_count": null,
   "id": "eea940de-3630-4911-af89-ac32a81f3fa0",
   "metadata": {},
   "outputs": [],
   "source": []
  }
 ],
 "metadata": {
  "kernelspec": {
   "display_name": "Python 3 (ipykernel)",
   "language": "python",
   "name": "python3"
  },
  "language_info": {
   "codemirror_mode": {
    "name": "ipython",
    "version": 3
   },
   "file_extension": ".py",
   "mimetype": "text/x-python",
   "name": "python",
   "nbconvert_exporter": "python",
   "pygments_lexer": "ipython3",
   "version": "3.10.4"
  }
 },
 "nbformat": 4,
 "nbformat_minor": 5
}
