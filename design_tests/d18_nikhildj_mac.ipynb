{
 "cells": [
  {
   "cell_type": "code",
   "execution_count": 78,
   "id": "0f58e661-325d-49ab-a8cd-f442f188ea09",
   "metadata": {},
   "outputs": [],
   "source": [
    "from interface import *\n",
    "import random\n",
    "random.seed(42)"
   ]
  },
  {
   "cell_type": "code",
   "execution_count": 79,
   "id": "6c91b6f5-b5f8-4417-bbaa-fb2a7d3c82fc",
   "metadata": {},
   "outputs": [
    {
     "name": "stdout",
     "output_type": "stream",
     "text": [
      "010010\n"
     ]
    }
   ],
   "source": [
    "## Test code for design 18 (MAC chip)\n",
    "print(\"{:06b}\".format(18))\n",
    "\n",
    "# instantiate and enable\n",
    "chip = Chip(\"/dev/tty.usbmodem2101\", 115200)\n",
    "chip.step_clock(10)"
   ]
  },
  {
   "cell_type": "code",
   "execution_count": 80,
   "id": "9386316c-3b9b-4754-b2d2-677857e89aec",
   "metadata": {},
   "outputs": [],
   "source": [
    "def shift_in(x1, x2):\n",
    "    x1 = f\"{x1:08b}\"\n",
    "    x2 = f\"{x2:08b}\"\n",
    "    \n",
    "    for i in range(8):\n",
    "        chip.set_input(9, int(x1[i]))  # shiftA\n",
    "        chip.set_input(10, int(x2[i])) # shiftB\n",
    "        chip.step_clock(2)\n",
    "        chip.set_input(8, 1) # shift\n",
    "        chip.step_clock(2)\n",
    "        chip.set_input(8, 0) # shift\n",
    "        chip.step_clock(2)\n",
    "        \n",
    "def shift_out():\n",
    "    bits = []\n",
    "    for i in range(20):\n",
    "        bits.append(chip.get_output(9) & 0x1)\n",
    "        chip.step_clock(2)\n",
    "        chip.set_input(8, 1) # shift\n",
    "        chip.step_clock(2)\n",
    "        chip.set_input(8, 0) # shift\n",
    "        chip.step_clock(2)\n",
    "    \n",
    "    return int(\"\".join(str(x) for x in bits[::-1]), 2)"
   ]
  },
  {
   "cell_type": "code",
   "execution_count": null,
   "id": "7c0d39c1-81b1-4aef-b1f7-9d4b2dcda12d",
   "metadata": {},
   "outputs": [],
   "source": []
  },
  {
   "cell_type": "code",
   "execution_count": 81,
   "id": "1bac2193-9a64-484a-968e-17854142967b",
   "metadata": {},
   "outputs": [
    {
     "name": "stdout",
     "output_type": "stream",
     "text": [
      "result 71217\n",
      "expected 71217\n"
     ]
    }
   ],
   "source": [
    "chip.set_all_inputs(0x000)\n",
    "chip.reset_sequence()\n",
    "chip.step_clock(20)\n",
    "chip.set_input(11, 1) # start\n",
    "chip.step_clock(10)\n",
    "chip.set_input(11, 0) # start\n",
    "chip.step_clock(100)\n",
    "\n",
    "expected = 0\n",
    "\n",
    "for i in range(9):\n",
    "    x1 = random.randint(0, 255)\n",
    "    x2 = random.randint(0, 255)\n",
    "    expected += x1*x2\n",
    "    \n",
    "    shift_in(x1, x2)\n",
    "    chip.step_clock(20)\n",
    "    chip.set_input(7, 1) # do next\n",
    "    chip.step_clock(3)\n",
    "    chip.set_input(7, 0) # do next\n",
    "    chip.step_clock(10)\n",
    "    \n",
    "while not chip.get_output(10):\n",
    "    chip.step_clock()\n",
    "\n",
    "chip.step_clock(2)\n",
    "print(\"result\", shift_out())\n",
    "print(\"expected\", expected)"
   ]
  },
  {
   "cell_type": "code",
   "execution_count": null,
   "id": "c65d5d41-e46e-4260-85ef-b1dfc1c8cda2",
   "metadata": {},
   "outputs": [],
   "source": []
  },
  {
   "cell_type": "code",
   "execution_count": null,
   "id": "27651ef5-01bf-4837-8158-28e210ce9133",
   "metadata": {},
   "outputs": [],
   "source": []
  },
  {
   "cell_type": "code",
   "execution_count": null,
   "id": "6d933432-4fe2-42bb-810f-ac8bcc434967",
   "metadata": {},
   "outputs": [],
   "source": []
  },
  {
   "cell_type": "code",
   "execution_count": null,
   "id": "eea940de-3630-4911-af89-ac32a81f3fa0",
   "metadata": {},
   "outputs": [],
   "source": []
  }
 ],
 "metadata": {
  "kernelspec": {
   "display_name": "Python 3 (ipykernel)",
   "language": "python",
   "name": "python3"
  },
  "language_info": {
   "codemirror_mode": {
    "name": "ipython",
    "version": 3
   },
   "file_extension": ".py",
   "mimetype": "text/x-python",
   "name": "python",
   "nbconvert_exporter": "python",
   "pygments_lexer": "ipython3",
   "version": "3.10.4"
  }
 },
 "nbformat": 4,
 "nbformat_minor": 5
}
