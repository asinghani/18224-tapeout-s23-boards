{
 "cells": [
  {
   "cell_type": "code",
   "execution_count": 1,
   "id": "0f58e661-325d-49ab-a8cd-f442f188ea09",
   "metadata": {},
   "outputs": [],
   "source": [
    "from interface import *\n",
    "import numpy as np\n",
    "import random\n",
    "random.seed(42)"
   ]
  },
  {
   "cell_type": "code",
   "execution_count": 3,
   "id": "6c91b6f5-b5f8-4417-bbaa-fb2a7d3c82fc",
   "metadata": {},
   "outputs": [
    {
     "name": "stdout",
     "output_type": "stream",
     "text": [
      "010110\n"
     ]
    }
   ],
   "source": [
    "## Test code for design 22 (convolution)\n",
    "print(\"{:06b}\".format(22))\n",
    "\n",
    "# instantiate and enable\n",
    "chip = Chip(\"/dev/tty.usbmodem21201\", 115200)\n",
    "chip.step_clock(10)"
   ]
  },
  {
   "cell_type": "code",
   "execution_count": null,
   "id": "9386316c-3b9b-4754-b2d2-677857e89aec",
   "metadata": {},
   "outputs": [],
   "source": []
  },
  {
   "cell_type": "code",
   "execution_count": null,
   "id": "7c0d39c1-81b1-4aef-b1f7-9d4b2dcda12d",
   "metadata": {},
   "outputs": [],
   "source": []
  },
  {
   "cell_type": "code",
   "execution_count": 8,
   "id": "1bac2193-9a64-484a-968e-17854142967b",
   "metadata": {},
   "outputs": [
    {
     "name": "stdout",
     "output_type": "stream",
     "text": [
      "result 0b100\n",
      "expected 0b100\n"
     ]
    }
   ],
   "source": [
    "# Test the example test vector\n",
    "chip.set_all_inputs(0b110110110110)\n",
    "chip.reset_sequence()\n",
    "\n",
    "chip.step_clock(20)\n",
    "\n",
    "print(\"result\", bin(chip.get_all_outputs()))\n",
    "print(\"expected\", bin(0b0100))"
   ]
  },
  {
   "cell_type": "code",
   "execution_count": null,
   "id": "c65d5d41-e46e-4260-85ef-b1dfc1c8cda2",
   "metadata": {},
   "outputs": [],
   "source": []
  },
  {
   "cell_type": "code",
   "execution_count": 9,
   "id": "27651ef5-01bf-4837-8158-28e210ce9133",
   "metadata": {},
   "outputs": [
    {
     "name": "stdout",
     "output_type": "stream",
     "text": [
      "in1 110000 // in2 100111 // result 1 // expected 1 // correct True\n",
      "in1 010110 // in2 111010 // result 2 // expected 2 // correct True\n",
      "in1 111111 // in2 001101 // result 3 // expected 3 // correct True\n",
      "in1 110110 // in2 101111 // result 3 // expected 3 // correct True\n",
      "in1 100001 // in2 101110 // result 1 // expected 1 // correct True\n",
      "in1 010101 // in2 111111 // result 3 // expected 3 // correct True\n",
      "in1 111100 // in2 010000 // result 1 // expected 1 // correct True\n",
      "in1 111001 // in2 010100 // result 1 // expected 1 // correct True\n",
      "in1 100101 // in2 001111 // result 2 // expected 2 // correct True\n",
      "in1 100110 // in2 011000 // result 0 // expected 0 // correct True\n",
      "in1 010001 // in2 011111 // result 2 // expected 2 // correct True\n",
      "in1 100001 // in2 000000 // result 0 // expected 0 // correct True\n",
      "in1 011110 // in2 011100 // result 3 // expected 3 // correct True\n",
      "in1 101000 // in2 100001 // result 1 // expected 1 // correct True\n",
      "in1 110111 // in2 111001 // result 3 // expected 3 // correct True\n"
     ]
    }
   ],
   "source": [
    "# Test some random vectors\n",
    "for _ in range(15):\n",
    "    x1 = [random.randint(0, 1) for _ in range(6)]\n",
    "    x2 = [random.randint(0, 1) for _ in range(6)]\n",
    "    expected = np.convolve(x1, x2[::-1], mode=\"valid\")[0]\n",
    "\n",
    "    in_str = \"\".join(str(x) for x in x1+x2)\n",
    "    \n",
    "    chip.set_all_inputs(int(in_str, 2))\n",
    "    chip.reset_sequence()\n",
    "\n",
    "    chip.step_clock(20)\n",
    "\n",
    "    print(\"in1\", in_str[0:6], \"//\",\n",
    "          \"in2\", in_str[6:12], \"//\",\n",
    "          \"result\", chip.get_all_outputs(), \"//\",\n",
    "          \"expected\", expected, \"//\",\n",
    "          \"correct\", chip.get_all_outputs() == expected)"
   ]
  },
  {
   "cell_type": "code",
   "execution_count": null,
   "id": "6d933432-4fe2-42bb-810f-ac8bcc434967",
   "metadata": {},
   "outputs": [],
   "source": []
  },
  {
   "cell_type": "code",
   "execution_count": null,
   "id": "eea940de-3630-4911-af89-ac32a81f3fa0",
   "metadata": {},
   "outputs": [],
   "source": []
  }
 ],
 "metadata": {
  "kernelspec": {
   "display_name": "Python 3 (ipykernel)",
   "language": "python",
   "name": "python3"
  },
  "language_info": {
   "codemirror_mode": {
    "name": "ipython",
    "version": 3
   },
   "file_extension": ".py",
   "mimetype": "text/x-python",
   "name": "python",
   "nbconvert_exporter": "python",
   "pygments_lexer": "ipython3",
   "version": "3.10.4"
  }
 },
 "nbformat": 4,
 "nbformat_minor": 5
}
