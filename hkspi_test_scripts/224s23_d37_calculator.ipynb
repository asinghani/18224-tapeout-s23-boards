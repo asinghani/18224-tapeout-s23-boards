{
 "cells": [
  {
   "cell_type": "code",
   "execution_count": null,
   "id": "5d798bb4",
   "metadata": {},
   "outputs": [],
   "source": [
    "from caravel import *\n",
    "from gpio import *\n",
    "import time"
   ]
  },
  {
   "cell_type": "code",
   "execution_count": null,
   "id": "99e57200-e31a-4a69-8bae-1a44344337f9",
   "metadata": {},
   "outputs": [],
   "source": [
    "dev = caravel_setup()\n",
    "caravel_reset(dev, 1)"
   ]
  },
  {
   "cell_type": "code",
   "execution_count": null,
   "id": "1a9d340b",
   "metadata": {},
   "outputs": [],
   "source": [
    "gpio_setup(\"sky130\")\n",
    "\n",
    "# chip outputs\n",
    "for i in range(26, 37+1):\n",
    "    gpio_setmode(dev, i, 1)\n",
    "\n",
    "# chip inputs\n",
    "for i in range(14, 25+1):\n",
    "    gpio_setmode(dev, i, 0)\n",
    "\n",
    "# design select    \n",
    "for i in range(8, 13+1):\n",
    "    gpio_setmode(dev, i, 0)\n",
    "\n",
    "# hold, sync, reset\n",
    "for i in range(5, 7+1):\n",
    "    gpio_setmode(dev, i, 0)\n",
    "    \n",
    "gpio_config_push(dev)"
   ]
  },
  {
   "cell_type": "code",
   "execution_count": null,
   "id": "6683a4e3",
   "metadata": {},
   "outputs": [],
   "source": [
    "def des_sel(idx):\n",
    "    gpio_setrange(dev, 13, 8, idx)\n",
    "\n",
    "def des_gpio_get():\n",
    "    return gpio_getrange(dev, 37, 26)\n",
    "\n",
    "def des_gpio_set(val):\n",
    "    gpio_setrange(dev, 25, 14, val)"
   ]
  },
  {
   "cell_type": "code",
   "execution_count": null,
   "id": "04d7bad6",
   "metadata": {},
   "outputs": [],
   "source": [
    "des_sel(11) # bf design\n",
    "\n",
    "des_gpio_set(0b00_10_00000000)\n",
    "\n",
    "gpio_set(dev, 7, 0) # hold\n",
    "\n",
    "\n",
    "gpio_set(dev, 6, 1) # reset\n",
    "time.sleep(0.5)\n",
    "gpio_set(dev, 6, 0) # reset"
   ]
  },
  {
   "cell_type": "code",
   "execution_count": null,
   "id": "e28467a6-d0ef-4f44-bead-678e79647eea",
   "metadata": {},
   "outputs": [],
   "source": [
    "des_gpio_get()"
   ]
  },
  {
   "cell_type": "code",
   "execution_count": null,
   "id": "706e57ca-8be1-421f-bad3-105eeedb8998",
   "metadata": {},
   "outputs": [],
   "source": [
    "bin(ord(\"+\"))"
   ]
  },
  {
   "cell_type": "code",
   "execution_count": null,
   "id": "a3592149-0832-4e0e-98fc-a30da9bdfe26",
   "metadata": {},
   "outputs": [],
   "source": [
    "(gpio_getall(dev) >> 26)"
   ]
  },
  {
   "cell_type": "code",
   "execution_count": null,
   "id": "ffcc5342-8278-492a-bb24-ed2dfece50b7",
   "metadata": {},
   "outputs": [],
   "source": [
    "des_gpio_set(0b00_10_00000000)"
   ]
  },
  {
   "cell_type": "code",
   "execution_count": null,
   "id": "25f3fe1a-e71b-471f-aa83-b063d60f1f09",
   "metadata": {},
   "outputs": [],
   "source": [
    "des_gpio_get()"
   ]
  },
  {
   "cell_type": "code",
   "execution_count": null,
   "id": "8821c208-71e0-49ad-a047-ec9918a90e5e",
   "metadata": {},
   "outputs": [],
   "source": [
    "1<<11"
   ]
  },
  {
   "cell_type": "code",
   "execution_count": null,
   "id": "0acc6a86-34f1-404b-b37e-c53a6f61b587",
   "metadata": {},
   "outputs": [],
   "source": [
    "bin(37)"
   ]
  },
  {
   "cell_type": "code",
   "execution_count": null,
   "id": "26865e18-58fc-4621-b774-05f2543ce71c",
   "metadata": {},
   "outputs": [],
   "source": []
  },
  {
   "cell_type": "code",
   "execution_count": null,
   "id": "e46535fc-eaf8-4be5-baa4-9b0c779fa59c",
   "metadata": {},
   "outputs": [],
   "source": [
    "# reset\n",
    "des_gpio_set(0b0000_00_000_01_0)\n",
    "des_gpio_set(0b0000_00_000_00_0)\n",
    "\n",
    "print(\"{:08b}\".format(des_gpio_get() & 0xFF))\n",
    "\n",
    "# add 1\n",
    "des_gpio_set(0b0000_00_001_10_0)\n",
    "print(\"{:08b}\".format(des_gpio_get() & 0xFF))\n",
    "des_gpio_set(0b0000_00_001_00_0)\n",
    "print(\"{:08b}\".format(des_gpio_get() & 0xFF))\n",
    "\n",
    "# add 1\n",
    "des_gpio_set(0b0000_00_001_10_0)\n",
    "print(\"{:08b}\".format(des_gpio_get() & 0xFF))\n",
    "des_gpio_set(0b0000_00_001_00_0)\n",
    "print(\"{:08b}\".format(des_gpio_get() & 0xFF))"
   ]
  },
  {
   "cell_type": "code",
   "execution_count": null,
   "id": "6bc9d0a0-06cb-4dc9-a939-0090111569bf",
   "metadata": {},
   "outputs": [],
   "source": []
  },
  {
   "cell_type": "code",
   "execution_count": null,
   "id": "1c309289-8e25-4172-8b0b-3a530f3bfe60",
   "metadata": {},
   "outputs": [],
   "source": []
  },
  {
   "cell_type": "code",
   "execution_count": null,
   "id": "e433cc8f-1512-4760-b2f3-9769c3ee8e55",
   "metadata": {},
   "outputs": [],
   "source": []
  },
  {
   "cell_type": "code",
   "execution_count": null,
   "id": "2502e428-0b4d-4ac4-a698-c4656f56d803",
   "metadata": {},
   "outputs": [],
   "source": []
  },
  {
   "cell_type": "code",
   "execution_count": null,
   "id": "a8d7bd04-38de-4f77-802d-46ff9c0c6774",
   "metadata": {},
   "outputs": [],
   "source": []
  }
 ],
 "metadata": {
  "kernelspec": {
   "display_name": "Python 3 (ipykernel)",
   "language": "python",
   "name": "python3"
  },
  "language_info": {
   "codemirror_mode": {
    "name": "ipython",
    "version": 3
   },
   "file_extension": ".py",
   "mimetype": "text/x-python",
   "name": "python",
   "nbconvert_exporter": "python",
   "pygments_lexer": "ipython3",
   "version": "3.10.4"
  }
 },
 "nbformat": 4,
 "nbformat_minor": 5
}
