{
 "cells": [
  {
   "cell_type": "code",
   "execution_count": null,
   "id": "5d798bb4",
   "metadata": {},
   "outputs": [],
   "source": [
    "from caravel import *\n",
    "from gpio import *"
   ]
  },
  {
   "cell_type": "code",
   "execution_count": null,
   "id": "99e57200-e31a-4a69-8bae-1a44344337f9",
   "metadata": {},
   "outputs": [],
   "source": [
    "dev = caravel_setup()\n",
    "caravel_reset(dev, 1)"
   ]
  },
  {
   "cell_type": "code",
   "execution_count": null,
   "id": "1a9d340b",
   "metadata": {},
   "outputs": [],
   "source": [
    "gpio_setup(\"sky130\")\n",
    "\n",
    "# chip outputs\n",
    "for i in range(26, 37+1):\n",
    "    gpio_setmode(dev, i, 1)\n",
    "\n",
    "# chip inputs\n",
    "for i in range(14, 25+1):\n",
    "    gpio_setmode(dev, i, 0)\n",
    "\n",
    "# design select    \n",
    "for i in range(8, 13+1):\n",
    "    gpio_setmode(dev, i, 0)\n",
    "\n",
    "# hold, sync, reset\n",
    "for i in range(5, 7+1):\n",
    "    gpio_setmode(dev, i, 0)\n",
    "    \n",
    "gpio_config_push(dev)"
   ]
  },
  {
   "cell_type": "code",
   "execution_count": null,
   "id": "6683a4e3",
   "metadata": {},
   "outputs": [],
   "source": [
    "def des_sel(idx):\n",
    "    gpio_setrange(dev, 15, 8, idx)\n",
    "\n",
    "def des_gpio_get():\n",
    "    return gpio_getrange(dev, 37, 26)\n",
    "\n",
    "def des_gpio_set(val):\n",
    "    gpio_setrange(dev, 25, 14, val)"
   ]
  },
  {
   "cell_type": "code",
   "execution_count": null,
   "id": "04d7bad6",
   "metadata": {},
   "outputs": [],
   "source": [
    "des_sel(5) # meta ROM design\n",
    "\n",
    "gpio_set(dev, 7, 0) # hold\n",
    "gpio_set(dev, 6, 1) # sync\n",
    "\n",
    "gpio_set(dev, 5, 1) # reset\n",
    "gpio_set(dev, 5, 0) # reset"
   ]
  },
  {
   "cell_type": "code",
   "execution_count": null,
   "id": "6bc9d0a0-06cb-4dc9-a939-0090111569bf",
   "metadata": {},
   "outputs": [],
   "source": [
    "blank = True\n",
    "\n",
    "print(\"Reading info ROM over HKSPI...\")\n",
    "print()\n",
    "\n",
    "for proj_id in range(64):\n",
    "    s = \"\"\n",
    "    for chr_id in range(64):\n",
    "        des_gpio_set(proj_id << 6 | chr_id)\n",
    "        ch = des_gpio_get() & 0xFF\n",
    "        if ch == 0:\n",
    "            break\n",
    "        s += chr(ch)\n",
    "\n",
    "    if len(s):\n",
    "        print(str(proj_id).ljust(2), s)\n",
    "        blank = False\n",
    "    elif not blank:\n",
    "        print()\n",
    "        blank = True"
   ]
  },
  {
   "cell_type": "code",
   "execution_count": null,
   "id": "1c309289-8e25-4172-8b0b-3a530f3bfe60",
   "metadata": {},
   "outputs": [],
   "source": []
  },
  {
   "cell_type": "code",
   "execution_count": null,
   "id": "e433cc8f-1512-4760-b2f3-9769c3ee8e55",
   "metadata": {},
   "outputs": [],
   "source": []
  },
  {
   "cell_type": "code",
   "execution_count": null,
   "id": "2502e428-0b4d-4ac4-a698-c4656f56d803",
   "metadata": {},
   "outputs": [],
   "source": []
  },
  {
   "cell_type": "code",
   "execution_count": null,
   "id": "a8d7bd04-38de-4f77-802d-46ff9c0c6774",
   "metadata": {},
   "outputs": [],
   "source": []
  }
 ],
 "metadata": {
  "kernelspec": {
   "display_name": "Python 3 (ipykernel)",
   "language": "python",
   "name": "python3"
  },
  "language_info": {
   "codemirror_mode": {
    "name": "ipython",
    "version": 3
   },
   "file_extension": ".py",
   "mimetype": "text/x-python",
   "name": "python",
   "nbconvert_exporter": "python",
   "pygments_lexer": "ipython3",
   "version": "3.10.4"
  }
 },
 "nbformat": 4,
 "nbformat_minor": 5
}
